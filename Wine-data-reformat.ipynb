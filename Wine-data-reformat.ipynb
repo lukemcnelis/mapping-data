{
 "cells": [
  {
   "cell_type": "markdown",
   "metadata": {},
   "source": [
    "Notebook to load data from wine-ratings CSV file and transform it into JSON format"
   ]
  },
  {
   "cell_type": "code",
   "execution_count": 1,
   "metadata": {},
   "outputs": [
    {
     "name": "stdout",
     "output_type": "stream",
     "text": [
      "Index(['Unnamed: 0', 'name', 'grape', 'region', 'variety', 'rating', 'notes'], dtype='object')\n",
      "(780, 7)\n"
     ]
    }
   ],
   "source": [
    "import pandas as pd\n",
    "\n",
    "wine_df = pd.read_csv('./sample_data/wine-ratings-small.csv')\n",
    "print(wine_df.columns)\n",
    "print(wine_df.shape)"
   ]
  },
  {
   "cell_type": "code",
   "execution_count": 2,
   "metadata": {},
   "outputs": [
    {
     "name": "stdout",
     "output_type": "stream",
     "text": [
      "# in subset = 5\n"
     ]
    },
    {
     "data": {
      "text/html": [
       "<div>\n",
       "<style scoped>\n",
       "    .dataframe tbody tr th:only-of-type {\n",
       "        vertical-align: middle;\n",
       "    }\n",
       "\n",
       "    .dataframe tbody tr th {\n",
       "        vertical-align: top;\n",
       "    }\n",
       "\n",
       "    .dataframe thead th {\n",
       "        text-align: right;\n",
       "    }\n",
       "</style>\n",
       "<table border=\"1\" class=\"dataframe\">\n",
       "  <thead>\n",
       "    <tr style=\"text-align: right;\">\n",
       "      <th></th>\n",
       "      <th>index</th>\n",
       "      <th>Unnamed: 0</th>\n",
       "      <th>name</th>\n",
       "      <th>grape</th>\n",
       "      <th>region</th>\n",
       "      <th>variety</th>\n",
       "      <th>rating</th>\n",
       "      <th>notes</th>\n",
       "    </tr>\n",
       "  </thead>\n",
       "  <tbody>\n",
       "    <tr>\n",
       "      <th>0</th>\n",
       "      <td>119</td>\n",
       "      <td>119</td>\n",
       "      <td>Le Chiuse Brunello di Montalcino 2013</td>\n",
       "      <td>NaN</td>\n",
       "      <td>Montalcino, Tuscany, Italy</td>\n",
       "      <td>Red Wine</td>\n",
       "      <td>96.0</td>\n",
       "      <td>Ruby red in color with light granite hues. The...</td>\n",
       "    </tr>\n",
       "    <tr>\n",
       "      <th>1</th>\n",
       "      <td>120</td>\n",
       "      <td>120</td>\n",
       "      <td>Le Chiuse Brunello di Montalcino 2015</td>\n",
       "      <td>NaN</td>\n",
       "      <td>Montalcino, Tuscany, Italy</td>\n",
       "      <td>Red Wine</td>\n",
       "      <td>95.0</td>\n",
       "      <td>Ruby red in color with light granite hues. The...</td>\n",
       "    </tr>\n",
       "    <tr>\n",
       "      <th>2</th>\n",
       "      <td>122</td>\n",
       "      <td>122</td>\n",
       "      <td>Le Chiuse Brunello di Montalcino (375ML half-b...</td>\n",
       "      <td>NaN</td>\n",
       "      <td>Montalcino, Tuscany, Italy</td>\n",
       "      <td>Red Wine</td>\n",
       "      <td>96.0</td>\n",
       "      <td>Ruby red in color with light granite hues. The...</td>\n",
       "    </tr>\n",
       "    <tr>\n",
       "      <th>3</th>\n",
       "      <td>222</td>\n",
       "      <td>222</td>\n",
       "      <td>Le Potazzine Gorelli Brunello di Montalcino 2012</td>\n",
       "      <td>NaN</td>\n",
       "      <td>Montalcino, Tuscany, Italy</td>\n",
       "      <td>Red Wine</td>\n",
       "      <td>96.0</td>\n",
       "      <td>Bright red garnet color and shiny. Strong olfa...</td>\n",
       "    </tr>\n",
       "    <tr>\n",
       "      <th>4</th>\n",
       "      <td>261</td>\n",
       "      <td>261</td>\n",
       "      <td>Le Salette Pergole Vece Amarone 2015</td>\n",
       "      <td>NaN</td>\n",
       "      <td>Veneto, Italy</td>\n",
       "      <td>Red Wine</td>\n",
       "      <td>95.0</td>\n",
       "      <td>Ruby red with violet reflections. Intense and ...</td>\n",
       "    </tr>\n",
       "  </tbody>\n",
       "</table>\n",
       "</div>"
      ],
      "text/plain": [
       "   index  Unnamed: 0                                               name  \\\n",
       "0    119         119              Le Chiuse Brunello di Montalcino 2013   \n",
       "1    120         120              Le Chiuse Brunello di Montalcino 2015   \n",
       "2    122         122  Le Chiuse Brunello di Montalcino (375ML half-b...   \n",
       "3    222         222   Le Potazzine Gorelli Brunello di Montalcino 2012   \n",
       "4    261         261               Le Salette Pergole Vece Amarone 2015   \n",
       "\n",
       "   grape                      region   variety  rating  \\\n",
       "0    NaN  Montalcino, Tuscany, Italy  Red Wine    96.0   \n",
       "1    NaN  Montalcino, Tuscany, Italy  Red Wine    95.0   \n",
       "2    NaN  Montalcino, Tuscany, Italy  Red Wine    96.0   \n",
       "3    NaN  Montalcino, Tuscany, Italy  Red Wine    96.0   \n",
       "4    NaN               Veneto, Italy  Red Wine    95.0   \n",
       "\n",
       "                                               notes  \n",
       "0  Ruby red in color with light granite hues. The...  \n",
       "1  Ruby red in color with light granite hues. The...  \n",
       "2  Ruby red in color with light granite hues. The...  \n",
       "3  Bright red garnet color and shiny. Strong olfa...  \n",
       "4  Ruby red with violet reflections. Intense and ...  "
      ]
     },
     "execution_count": 2,
     "metadata": {},
     "output_type": "execute_result"
    }
   ],
   "source": [
    "# Apply filters to select a subset\n",
    "#temp_df = wine_df[(wine_df['variety']=='Red Wine') & (wine_df['rating']>=95) & (wine_df['region'].str.contains('Italy'))].copy()\n",
    "# Or, apply masks to select a subset\n",
    "variety_mask = wine_df['variety']=='Red Wine'\n",
    "rating_mask = wine_df['rating']>=95\n",
    "region_mask = wine_df['region'].str.contains('Italy')\n",
    "temp_df = wine_df[(variety_mask & rating_mask & region_mask)]\n",
    "temp_df.reset_index(inplace=True)\n",
    "print(f'# in subset = {len(temp_df)}')\n",
    "temp_df.head()"
   ]
  },
  {
   "cell_type": "code",
   "execution_count": 25,
   "metadata": {},
   "outputs": [
    {
     "name": "stdout",
     "output_type": "stream",
     "text": [
      "type = <class 'str'>\n"
     ]
    },
    {
     "data": {
      "text/plain": [
       "'{\"name\":{\"0\":\"Le Chiuse Brunello di Montalcino 2013\",\"1\":\"Le Chiuse Brunello di Montalcino 2015\",\"2\":\"Le Chiuse Brunello di Montalcino (375ML half-bottle) 2013\",\"3\":\"Le Potazzine Gorelli Brunello di Montalcino 2012\",\"4\":\"Le Salette Pergole Vece Amarone 2015\"},\"region\":{\"0\":\"Montalcino, Tuscany, Italy\",\"1\":\"Montalcino, Tuscany, Italy\",\"2\":\"Montalcino, Tuscany, Italy\",\"3\":\"Montalcino, Tuscany, Italy\",\"4\":\"Veneto, Italy\"},\"variety\":{\"0\":\"Red Wine\",\"1\":\"Red Wine\",\"2\":\"Red Wine\",\"3\":\"Red Wine\",\"4\":\"Red Wine\"},\"rating\":{\"0\":96.0,\"1\":95.0,\"2\":96.0,\"3\":96.0,\"4\":95.0}}'"
      ]
     },
     "execution_count": 25,
     "metadata": {},
     "output_type": "execute_result"
    }
   ],
   "source": [
    "#Convert selected columns from DataFrame to JSON\n",
    "json_out = temp_df[['name', 'region', 'variety', 'rating']].to_json() #(orient='records')\n",
    "print(f'type = {type(json_out)}')\n",
    "json_out"
   ]
  },
  {
   "cell_type": "code",
   "execution_count": 26,
   "metadata": {},
   "outputs": [],
   "source": [
    "# now use the `.dump()` JSON method (note no 's'!) to save it to a new JSON file\n",
    "import json\n",
    "with open('sample_data/wine-filtered.json', 'w') as f:\n",
    "    json.dump(json_out, f)"
   ]
  },
  {
   "cell_type": "code",
   "execution_count": 27,
   "metadata": {},
   "outputs": [
    {
     "name": "stdout",
     "output_type": "stream",
     "text": [
      "dict_keys(['name', 'region', 'variety', 'rating'])\n",
      "Number of items: 5\n"
     ]
    }
   ],
   "source": [
    "# read the JSON file and then parse it using the `.load()` method\n",
    "# note the subtle difference, this is the `.load()` method (no 's'), not `.loads()`\n",
    "with open('sample_data/wine-filtered.json') as f:\n",
    "    loaded_json = json.load(f)\n",
    "# Now load it into Python\n",
    "# mnemonic: loads -> LOAD from String\n",
    "loaded_json = json.loads(loaded_json)\n",
    "print(loaded_json.keys())\n",
    "print(f\"Number of items: {len(loaded_json['name'])}\")"
   ]
  },
  {
   "cell_type": "code",
   "execution_count": 31,
   "metadata": {},
   "outputs": [
    {
     "data": {
      "text/plain": [
       "{'0': 'Le Chiuse Brunello di Montalcino 2013',\n",
       " '1': 'Le Chiuse Brunello di Montalcino 2015',\n",
       " '2': 'Le Chiuse Brunello di Montalcino (375ML half-bottle) 2013',\n",
       " '3': 'Le Potazzine Gorelli Brunello di Montalcino 2012',\n",
       " '4': 'Le Salette Pergole Vece Amarone 2015'}"
      ]
     },
     "execution_count": 31,
     "metadata": {},
     "output_type": "execute_result"
    }
   ],
   "source": [
    "loaded_json['name']"
   ]
  },
  {
   "cell_type": "code",
   "execution_count": 32,
   "metadata": {},
   "outputs": [
    {
     "data": {
      "text/plain": [
       "'Le Chiuse Brunello di Montalcino 2015'"
      ]
     },
     "execution_count": 32,
     "metadata": {},
     "output_type": "execute_result"
    }
   ],
   "source": [
    "loaded_json['name']['1']"
   ]
  },
  {
   "cell_type": "code",
   "execution_count": null,
   "metadata": {},
   "outputs": [],
   "source": []
  }
 ],
 "metadata": {
  "kernelspec": {
   "display_name": "Python 3.6.6 64-bit",
   "language": "python",
   "name": "python3"
  },
  "language_info": {
   "codemirror_mode": {
    "name": "ipython",
    "version": 3
   },
   "file_extension": ".py",
   "mimetype": "text/x-python",
   "name": "python",
   "nbconvert_exporter": "python",
   "pygments_lexer": "ipython3",
   "version": "3.6.6"
  },
  "orig_nbformat": 4,
  "vscode": {
   "interpreter": {
    "hash": "24d7522ab3ca1a59910963a0b2c5bbc2ca65d83c10ed9498b4a93fbee4b7dcb2"
   }
  }
 },
 "nbformat": 4,
 "nbformat_minor": 2
}
