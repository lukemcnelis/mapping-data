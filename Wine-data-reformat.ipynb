{
 "cells": [
  {
   "cell_type": "markdown",
   "metadata": {},
   "source": [
    "Notebook to load data from wine-ratings CSV file and transform it into JSON format"
   ]
  },
  {
   "cell_type": "code",
   "execution_count": 2,
   "metadata": {},
   "outputs": [
    {
     "data": {
      "text/plain": [
       "'c:\\\\Users\\\\lukem\\\\Google Drive\\\\data_engineering\\\\mapping-data'"
      ]
     },
     "execution_count": 2,
     "metadata": {},
     "output_type": "execute_result"
    }
   ],
   "source": [
    "import os\n",
    "os.getcwd()"
   ]
  },
  {
   "cell_type": "code",
   "execution_count": 16,
   "metadata": {},
   "outputs": [],
   "source": [
    "import pandas as pd\n",
    "\n",
    "#wine_df = pd.read_csv('c:\\\\Users\\\\lukem\\\\Google Drive\\\\data_engineering\\\\mapping-data\\\\sample_data\\\\wine-ratings-small.csv')\n",
    "# path = C:\\Users\\lukem\\Google Drive\\data_engineering\\mapping-data\\sample_data\\wine-ratings-small.csv\n",
    "# relative path = mapping-data\\sample_data\\wine-ratings-small.csv\n",
    "wine_df = pd.read_csv('./sample_data/wine-ratings-small.csv')\n"
   ]
  },
  {
   "cell_type": "code",
   "execution_count": 18,
   "metadata": {},
   "outputs": [
    {
     "data": {
      "text/plain": [
       "Index(['Unnamed: 0', 'name', 'grape', 'region', 'variety', 'rating', 'notes'], dtype='object')"
      ]
     },
     "execution_count": 18,
     "metadata": {},
     "output_type": "execute_result"
    }
   ],
   "source": [
    "wine_df.columns"
   ]
  },
  {
   "cell_type": "code",
   "execution_count": null,
   "metadata": {},
   "outputs": [],
   "source": []
  }
 ],
 "metadata": {
  "kernelspec": {
   "display_name": "Python 3.6.6 64-bit",
   "language": "python",
   "name": "python3"
  },
  "language_info": {
   "codemirror_mode": {
    "name": "ipython",
    "version": 3
   },
   "file_extension": ".py",
   "mimetype": "text/x-python",
   "name": "python",
   "nbconvert_exporter": "python",
   "pygments_lexer": "ipython3",
   "version": "3.6.6"
  },
  "orig_nbformat": 4,
  "vscode": {
   "interpreter": {
    "hash": "24d7522ab3ca1a59910963a0b2c5bbc2ca65d83c10ed9498b4a93fbee4b7dcb2"
   }
  }
 },
 "nbformat": 4,
 "nbformat_minor": 2
}
